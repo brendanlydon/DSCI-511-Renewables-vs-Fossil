{
 "cells": [
  {
   "cell_type": "markdown",
   "metadata": {},
   "source": [
    "# DSCI 511: Data Acquisition and Pre-Processing <br> Term Project Phase 1: Scoping a data set"
   ]
  },
  {
   "cell_type": "markdown",
   "metadata": {},
   "source": [
    "## The big picture\n",
    "Welcome to your term project! This is the first portion of a two-part, open-ended team assignment that will culminate in a presentation during the last week of class or the regularly scheduled final exam period. Overall, this term project is intended to provide some open-ended experience with building a complex dataset and making it available. Specifically, all projects for this course will entail the following:\n",
    "\n",
    "- The construction, acquistion, integration, enrichment, and distribution of a project-motivated and computationally significant dataset.\n",
    "\n",
    "The first report on your team's project will constitue a discussion of what the dataset is that you want to build/access/create, why you believe it will be possilbe to conduct, and how long you believe it will take to build, in addition to discussion of the sorts of tasks that will be involved. Additionally, this inital project planning report should speculate and provide examples potential dataset uses, whether academic or commercial.\n",
    "\n",
    "__Note__: All reports should inclue a high level abstract/discussion in a tone that is set for a completely diverse audience.\n",
    "\n",
    "Later on, a final report will recap progress at the task you're group has come up with, specifically revisiting what you _though_ the dataset development would take,  as compared to the actual work involved and obstacles encountered.\n",
    "\n",
    "__Important__: because your project reports will have discussion intermingled with data and code as output, I not only request the  submission of your work in Jupyter Notebooks format, but additionly recommend conducting your work as a group collaboratively in Jupyter notebooks."
   ]
  },
  {
   "cell_type": "markdown",
   "metadata": {},
   "source": [
    "## This is only a guideline\n",
    "\n",
    "While I will provide some idea of structure and expectation for your project it is important to note that this is an intentionally open-ended project. Hence, no specific rubric is provided. The courses of different projects will require overcoming different obstacles, and success in a data science project is ultimately a (partial) function of a team's abaility to adapt to project needs. However, all work should be well documented, articulately presented, and justified. If at any point it is unclear what to do or how to represent your project's work, please do not hesitate to ask your instructor for direction."
   ]
  },
  {
   "cell_type": "markdown",
   "metadata": {},
   "source": [
    "## Abstract\n",
    "\n",
    "With climate change shaping up to be arguably the biggest challenge humanity has ever faced in our long history, this data set hopes to start looking into where our electricty is coming from in the 21st century: __Renewables vs Fossil Fuels__. The data pulled into the __electricty_data.csv__ file looks at nearly two decades worth of information on every state in the U.S., broken down by month and the fuel source used. The goal is three-fold:\n",
    "\n",
    "1. To see where our power generation is coming from;\n",
    "2. To understand directionally where the U.S. is heading when it comes to sourcing our power generation;\n",
    "3. To ultimately model out the financial impact of moving 100% of the country's power generation to renewable energy.\n",
    "\n",
    "For reference, the definition of each heading in the __electricity_data.csv__ file (to be generated) is listed below:\n",
    "\n",
    "- __prime_category:__ Dictates whether we are looking at generation, consumption, costs, etc..\n",
    "- __series_name:__ The final data series used to generate the data in this row from the EIA Website. \n",
    "- __period:__ The month corresponding with this row of data. 202107 = August, 2021\n",
    "- __frequency:__ The relevant reporting frequency. In this case, it is always by month but can be pulled by Year or Quarter as well.\n",
    "- __fuel_type:__ Whatever fuel source was used to generate the electricty (coal, hydroelectric, gas, etc.)\n",
    "- __energy_type:__ Renewables, Non-Renewables, or All (See list below for specifics). If all, it is indeterminate. \n",
    "- __value:__ The corresponding numerical value for each given row.\n",
    "- __units:__ The unit type corresponding with each row. \n",
    "    \n",
    "    \n",
    "## Your team\n",
    "\n",
    "The first thing you'll have to do in this phase is organize into a project team. Data science is often conducted in teams, with different team members covering the diversity of knowledge and skills relevant to the different areas that a project must support to succeed. Even though our course is only focused on early-phase data science tasks (data set development), be sure to consider the strengths of your teamates and interests for gaining experience in dataset construction&mdash;if you want extensive experience with web scraping, pitch a project about this with a few other interested points. It will help to discuss interests. Be sure to write out the names of the project team's members in your first report and answer the two questions:\n",
    "\n",
    "1. What areas/skills/domains does the team member presently identify with?\n",
    "\n",
    "__I received my undergraduate degree in Marketing from West Chester University in 2018. Since then, I've pivoted my career into one centered around Data Analytics. For the past 3 years, I have worked for a Logistics company where my work has touched on every major aspect of the business - production, human resource management, financial management, business proposals, & quality control. During this time, I used a combination of Python, Excel and Tableau for data analysis, while connecting to large databases (Oracle and Microsoft SQL) using SQL to extract the necessary data.__\n",
    "    \n",
    "I am very comfortable with my SQL, Excel, and Tableau skills. I primarily used Python to shortcut my tasks with things like email generation, data parsing, and to connect to third part API's like Tellio to build out an internal text messaging application for the company. My role primarily focused on using data to enhance company strategies.__\n",
    "    \n",
    "2. Into which areas/skills/domains would the team member like to grow?\n",
    "\n",
    "__October 11th, I started a new job working as a data analyst for a tech consulting company. This will allow me to work for a number of different companies and industries - something I am hoping will give me a more concrete idea of what I want to do further in my career.__\n",
    "\n",
    "__Currently, I am very interested in a few different spaces: blockchain technologies, cryptocurrency, fintech, government operability enhancements using modern data processing, and the expansion of energy efficientogies in the green-energy space. For all of this, Python is going to be a key area of focus.__\n"
   ]
  },
  {
   "cell_type": "markdown",
   "metadata": {},
   "source": [
    "## Your topic\n",
    "\n",
    "The course of your project will be determined by two things:\n",
    "\n",
    "1. the motivations present in your project's team and\n",
    "2. the data your project is able to pull together.\n",
    "\n",
    "Thus, choosing your topic is closely tied to both your team and the data you are able to identify. To start, discuss the domain interests present on your project team. Te get you on your way, let's start with two questions:\n",
    "\n",
    "1. Is there an aspect of the IoT, natural world, society, literature, or art, etc. that you would like to investigate computationally through what might be considered 'data'? \n",
    "\n",
    "__I would like to get access to more energy data in both the US and internationally. Specifically, I am going to be looking for how much energy is being produced through green energy initiatives vs. old-world natural gas. If possible, I am going to pin this down by country if global data is available, or by state/county.__\n",
    "\n",
    "2. What sort of data-medium are you interested to work with?&mdash;For example: transaction records, stock prices, memes and online conversations, open-domain poems, congressional records, News Articles, songs and popularity, Associated Press Images, transit records, call logs, CCTV footage, etcetera.\n",
    "\n",
    "__For the energy piece, I am looking to use public data from eia.gov to pull live energy usage information. This data seems to be kept in a JSON format that I can connect to via an API. I will be writing out a python script that will handle pulling the data.__\n",
    "\n",
    "Whatever the direction you set for your project please make sure you document it well, keeping track of how its objectives and strategies change as you encounter available materials and other existing work."
   ]
  },
  {
   "cell_type": "markdown",
   "metadata": {},
   "source": [
    "## What you're responsible for in this phase\n",
    "Ok, so here's the goal again for phase 1. You must:\n",
    "\n",
    "- scope a computationally tangible artifact&mdash;heretofore known as the data set&mdash;whose study is expected to satisfy goals pertaining to the project's topic of interest.\n",
    "\n",
    "This phase of the project will set expectations and a work plan for your project's open-ended work. Not only should you scope the collection of your dataset, but determine what mode's of distribution will be possible once its produces. Will you have to distribute access code, or will you be able to directly provide links to stored data.\n",
    "\n",
    "Ultimately, the completion of your poject will produce raw materials for other folks (possibly you) interested in trying out analysis applications in future coursework (DSCI 521). So, as you identify a potential data set be sure to be realistic about what is possible to collect and how you can preprocess it for use! Ultimately, please make sure that some portion of your target data are guarenteed to be collectable. However, it's okay to try for some data that are a reach, just document any un- or partially successful efforts in your report and discuss what obstacles prevented those data from being collected.\n",
    "\n",
    "### Things I'll be looking for in a Phase 1 report\n",
    "\n",
    "- a background report on the team's members, their self-identified skills, and individual contributions\n",
    "- a discussion of what you would like to your data to do/hope it is good for\n",
    "- an exhibition of a sample of your data&mdash;show me it exists and what it looks like, even if very raw\n",
    "- a discussion of who might be interested in your data set\n",
    "- a discussion of how your data is limited and could be improved\n",
    "- a discussion of how your data were created, e.g., people texting, The Earth's molten core spinning, etc.\n",
    "- a discussion of what sort of access rights presently exist on your data and how/if you will make them available\n",
    "\n",
    "As a heads up, by the end of the term and in your final report I'll be looking for things like\n",
    "- a data dictionary or README.md that describes what is present in the data set and where or how to access\n",
    "- code that documents the construction of your data&mdash;I should be able to re-construct/re-access it!\n",
    "- code that allows me or someone else to interact with your data set\n",
    "- tables and figures indicating the size and variety present in your data\n",
    "\n",
    "_Note_: These are not exhaustive lists of topics or tasks worth covering in your project. In general, if there's something interesting about your dataset, whether relating to its construction, existence, representative population or _anything else_, then be sure to document it!"
   ]
  },
  {
   "cell_type": "markdown",
   "metadata": {},
   "source": [
    "### A background report on the team's members, their self-identified skills, and individual contributions\n",
    "\n",
    "- __Brendan Lydon__\n",
    "- __Skillset:__ Python (Minimal), Web Development, Tableau, Excel, SQL, Oracle, Microsoft SQL, PostgreSQL\n",
    "- __Professional History:__ Data analytics, financial planning, human resource management, production/logistics management, team management, presentations to c-suite, KPI metric design.\n",
    "- __Contributions:__ I will managing this entire project, including scope, data acquisition, etc...\n",
    "\n",
    "\n",
    "### A discussion of what you would like to your data to do/hope it is good for\n",
    "\n",
    "I would like to start tracking energy production/consumption for specific geographic areas over the past X number of years/months/days depending on what data is available. I am very interested in the growth of the green economy and the economic impacts that follow. With this data, I am hoping to showcase what regions in the world are taking the largest steps towards a predominantly green energy sector. Throughout my masters program, I am hoping to expand on the resources I have access too and to dive deeper into the societal/financial impact of these initiatives using a diversified set of data. \n",
    "\n",
    "One last thing I'd like to note, I am very interested in the fintech/blockchain/cryptocurrency markets and am very keen to tie this together with energy consumption data. The correlation between something like bitcoin mining and energy consumption is already somewhat noticeable, what I would like to investigate is the financial growth that can occur from cheaper renewable energy. With more of our financial dealings being handled online by the day, the potential impact of renewable energy in this space is massive.\n",
    "\n",
    "\n",
    "### A discussion of who might be interested in your data set\n",
    "\n",
    "Climate change is undeniably going to be the number one concern for our generation and future generations. The potential impacts on every aspect of our modern life are monumental. While the earth will inevitably be okay, us humans (and society as a whole) are left in the unenviable position of being washed over by the detrimental impact of rapid climate change. Energy consumption - and, more importantly, where that energy is coming from - will be of great concern to anyone interested in moving towards renewable planet. As the field continues to grow, I think that both current data scientists, ecologically focused companies, and future students will all be interested in this data set and others like it.\n",
    "\n",
    "\n",
    "### A discussion of how your data is limited and could be improved\n",
    "\n",
    "First, I do not go down to the level of __sector (Industry, commercial, etc.)__. This is the final level of data available on the site and is something I may end up pull into the final dataset before the class is over. This will give a deeper view into where the electricty being generated is both coming from and going towards.\n",
    "\n",
    "Second, all of the financial data doesn't seem to be split by renewable generation vs. fossil fuel generaiton. This could just be something I'm missing from not being as familiar with the industry as I should be, but it is an important piece that I would like to include.\n",
    "\n",
    "Including both the sectors and the financial impact split between renewable energies and fossil fuels is something that I think will push this data to another level. Ultimately, this is what I'm trying to hone in on so it is crucial to make that connection.\n",
    "\n",
    "\n",
    "### A discussion of how your data were created, e.g., people texting, The Earth's molten core spinning, etc.\n",
    "Per the __EIA Website__:\n",
    "    - EIA conducts a comprehensive data collection program that covers the full spectrum of energy sources, end uses, and energy flows. EIA also prepares informative energy analyses, monthly short-term forecasts of energy market trends, and long-term U.S. and international energy outlooks. EIA disseminates its data, analyses, and other products primarily through its website, EIA.gov.\n",
    "    \n",
    "This data appears to be collected from any energy provider within the US, with summations being given from international locations where possible.\n",
    "\n",
    "\n",
    "### A discussion of what sort of access rights presently exist on your data and how/if you will make them available\n",
    "Anyone is able to access the website and register for their own __API Key__. My data is available directly upon completion of the script, and I have included the full dataset as well. In the future, I will be uploading this all directly to __GitHub__ with my personal registration key out and will include instructions so that anyone can obtain their own. \n",
    "\n",
    "This data is ultimately saved directly into whatever file ths script is being run from. \n"
   ]
  },
  {
   "cell_type": "markdown",
   "metadata": {},
   "source": [
    "## An exhibition of a sample of your data"
   ]
  },
  {
   "cell_type": "markdown",
   "metadata": {},
   "source": [
    "### My Plan to Collect the Data\n",
    "1. Use the __U.S. Energy Information Administration__ API to find energy usage information for the US.\n",
    "    - https://www.eia.gov/opendata/qb.php?category=371\n",
    "    - Registed for an API key and will use this to start getting access to the specific reports.\n",
    "    \n",
    "2. I will be pulling data using the following outline (measure type varies for each):\n",
    "    \n",
    "   -  __Electricity__  --->  __Net Generation__  --->  __By Fuel Type__  --->  __Fuel Type__  --->  __State__\n",
    "    \n",
    "    - __Electricity__  --->  __Total Consumption__  --->  __By Fuel Type__  --->  __Fuel Type__  --->  __State__\n",
    "    \n",
    "   -  __Electricity__  --->  __Retail sales of electricity__  --->  __State__\n",
    "    \n",
    "   -  __Electricity__  --->  __Average Retail Price of Electricity__  --->  __State__\n",
    "    \n",
    "    - __Electricity__  --->  __Revenue from Retail Sales of Electricity__  --->  __State__\n",
    "    \n",
    "    - __Electricity__  --->  __Number of Customer Accounts__  --->  __State__\n",
    "\n",
    "\n",
    "3. The data will be pulled together using the __Pandas Dataframe__ and loaded onto a CSV file.\n",
    "    - I prefer using Pandas as this was what I learned to work with for my job. It is what I am the most comfortable with. "
   ]
  },
  {
   "cell_type": "code",
   "execution_count": 1,
   "metadata": {},
   "outputs": [],
   "source": [
    "# Import relevant packages\n",
    "import pandas as pd\n",
    "import json\n",
    "import requests"
   ]
  },
  {
   "cell_type": "code",
   "execution_count": 2,
   "metadata": {},
   "outputs": [],
   "source": [
    "# Setup necessary API information\n",
    "\n",
    "api_key = '8e842dc445e065eb58ed671984cbf92e' # Given after signing up with the site.\n",
    "api_link = 'http://api.eia.gov/category/?api_key=' + api_key + '&category_id=' # Basic link structure for accessing all API data.\n",
    "series_link = 'https://api.eia.gov/series/?api_key=' + api_key +'&series_id=' # Needed to pull the actual dataset\n",
    "main_id = '371' # Main API ID used to access all children data."
   ]
  },
  {
   "cell_type": "code",
   "execution_count": 3,
   "metadata": {},
   "outputs": [
    {
     "data": {
      "text/plain": [
       "[{'category_id': 0, 'name': 'Electricity'},\n",
       " {'category_id': 40203, 'name': 'State Energy Data System (SEDS)'},\n",
       " {'category_id': 714755, 'name': 'Petroleum'},\n",
       " {'category_id': 714804, 'name': 'Natural Gas'},\n",
       " {'category_id': 711224, 'name': 'Total Energy'},\n",
       " {'category_id': 717234, 'name': 'Coal'},\n",
       " {'category_id': 829714, 'name': 'Short-Term Energy Outlook'},\n",
       " {'category_id': 964164, 'name': 'Annual Energy Outlook'},\n",
       " {'category_id': 1292190, 'name': 'Crude Oil Imports'},\n",
       " {'category_id': 2123635, 'name': 'U.S. Electric System Operating Data'},\n",
       " {'category_id': 2134384, 'name': 'International Energy Data'},\n",
       " {'category_id': 2251604, 'name': 'CO2 Emissions'},\n",
       " {'category_id': 2631064, 'name': 'International Energy Outlook'},\n",
       " {'category_id': 2889994, 'name': 'U.S. Nuclear Outages'}]"
      ]
     },
     "execution_count": 3,
     "metadata": {},
     "output_type": "execute_result"
    }
   ],
   "source": [
    "# Access the data start of the API.\n",
    "\n",
    "open_data = requests.get(api_link+main_id).json() # Organizes site data into useful JSON format using Request and JSON packages.\n",
    "category_list = open_data['category']['childcategories'] # Dictionary for relevant keys for accessing data.\n",
    "category_list"
   ]
  },
  {
   "cell_type": "code",
   "execution_count": 4,
   "metadata": {
    "scrolled": true
   },
   "outputs": [
    {
     "data": {
      "text/plain": [
       "[{'category_id': 1, 'name': 'Net generation'},\n",
       " {'category_id': 35, 'name': 'Total consumption'},\n",
       " {'category_id': 32, 'name': 'Total consumption (Btu)'},\n",
       " {'category_id': 36, 'name': 'Consumption for electricity generation'},\n",
       " {'category_id': 33, 'name': 'Consumption for electricity generation (Btu)'},\n",
       " {'category_id': 37, 'name': 'Consumption for useful thermal output'},\n",
       " {'category_id': 34, 'name': 'Consumption for useful thermal output (Btu)'},\n",
       " {'category_id': 1017, 'name': 'Plant level data'},\n",
       " {'category_id': 38, 'name': 'Retail sales of electricity'},\n",
       " {'category_id': 39, 'name': 'Revenue from retail sales of electricity'},\n",
       " {'category_id': 40, 'name': 'Average retail price of electricity'},\n",
       " {'category_id': 1718389, 'name': 'Number of customer accounts'},\n",
       " {'category_id': 41137,\n",
       "  'name': 'Fossil-fuel stocks for electricity generation'},\n",
       " {'category_id': 41138,\n",
       "  'name': 'Receipts of fossil fuels by electricity plants'},\n",
       " {'category_id': 41139,\n",
       "  'name': 'Receipts of fossil fuels by electricity plants (Btu)'},\n",
       " {'category_id': 41140,\n",
       "  'name': 'Average cost of fossil fuels for electricity generation'},\n",
       " {'category_id': 41141,\n",
       "  'name': 'Average cost of fossil fuels for electricity generation (per Btu)'},\n",
       " {'category_id': 41142,\n",
       "  'name': 'Quality of fossil fuels in electricity generation : sulfur content'},\n",
       " {'category_id': 41143,\n",
       "  'name': 'Quality of fossil fuels in electricity generation : ash content'}]"
      ]
     },
     "execution_count": 4,
     "metadata": {},
     "output_type": "execute_result"
    }
   ],
   "source": [
    "# Zoom into what categories I am specifically going to be looking at.\n",
    "\n",
    "category_select = requests.get(api_link + str(category_list[0])).json() # Selecting the Electricity data.\n",
    "electricity_categories = category_select['category']['childcategories'] # List of available subcategories for electricity.\n",
    "electricity_categories"
   ]
  },
  {
   "cell_type": "code",
   "execution_count": 5,
   "metadata": {},
   "outputs": [],
   "source": [
    "# After review, these are the primary categories I am going to be looking at. \n",
    "# Each list has different numbers of levels necessary (see flow above).\n",
    "\n",
    "non_sales_list = ['Net generation','Total consumption'] \n",
    "sales_list = ['Retail sales of electricity', 'Average retail price of electricity','Revenue from retail sales of electricity', 'Number of customer accounts'] \n",
    "renewables = ['All solar','All utility-scale solar','Conventional hydroelectric','Geothermal','Hydro-electric pumped storage',\n",
    "              'Other biomass','Other renewables (total)','Small-scale solar photovoltaic',\n",
    "              'Utility-scale photovoltaic','Utility-scale thermal','Wind','Wood and wood-derived fuels']\n",
    "\n",
    "non_renewables = ['Coal','Natural gas','Nuclear','Other','Other gases',' Petroleum coke','Petroleum liquids']\n"
   ]
  },
  {
   "cell_type": "code",
   "execution_count": 6,
   "metadata": {},
   "outputs": [],
   "source": [
    "# Empty lists for each value pulled. This data will be put together using the Pandas dataframe and exported to CSV.\n",
    "\n",
    "prime_category = []\n",
    "series_name = []\n",
    "period = []\n",
    "frequency = []\n",
    "fuel_type = []\n",
    "energy_type = []\n",
    "value = []\n",
    "units = []\n",
    "\n",
    "limit = 5 # Limits number of pulls for each group to shorten runtime, actual data is 300k+ rows. \n",
    "          # I will be taking this out of final project. The full load takes about 3 minutes to complete. "
   ]
  },
  {
   "cell_type": "code",
   "execution_count": 8,
   "metadata": {},
   "outputs": [
    {
     "name": "stdout",
     "output_type": "stream",
     "text": [
      "Net generation\n",
      "Total consumption\n",
      "Retail sales of electricity\n",
      "Revenue from retail sales of electricity\n",
      "Average retail price of electricity\n",
      "Number of customer accounts\n"
     ]
    }
   ],
   "source": [
    "# This script goes through each page and pulls all relevant ID information.\n",
    "# It is set to automatically circle through each set of JSON data. \n",
    "# This means that, assuming the flow (above) is the same than anything in the list can automatically be added extra intervention.\n",
    "# Relevant list of potential Electricity categories can be found at:\n",
    "# https://www.eia.gov/opendata/qb.php?category=0\n",
    "# Annotation provided as relevant for each line.\n",
    "\n",
    "for i in electricity_categories:\n",
    "    if i['name'] in non_sales_list: # Only pull what is in None Sales List\n",
    "        print(i['name'])\n",
    "        data = requests.get(api_link+str(i['category_id'])).json() # Load first page\n",
    "        fuel_type_categories = requests.get(api_link + str(data['category']['childcategories'][0]['category_id'])).json() # Load all possible fuel types\n",
    "        for f in fuel_type_categories['category']['childcategories']:\n",
    "            fuel_select = requests.get(api_link + str(f['category_id'])).json() # Load fuel-type page\n",
    "            child_select = fuel_select['category']['childseries'] # Pull all possible reports (Will select by month)\n",
    "            if f['name'] in renewables:\n",
    "                energy_type_set = 'Renewable'\n",
    "            elif f['name'] in non_renewables:\n",
    "                energy_type_set = 'Non-Renewable'\n",
    "            else:\n",
    "                energy_type_set = 'All'\n",
    "            for c in child_select:\n",
    "                if 'monthly' in c['name']: # Only select monthly reporting\n",
    "                    new_data = requests.get(series_link+str(c['series_id'])).json() # Link to series data using key taken from child_select\n",
    "                    monthly_data = new_data['series'][0]['data'] # Pull each row by month and take out data\n",
    "\n",
    "                    for m in monthly_data:\n",
    "                        prime_category.append(i['name'].title()) # Prime Category\n",
    "                        series_name.append(c['name']) # Series Name\n",
    "                        period.append(m[0]) # Month\n",
    "                        fuel_type.append(f['name']) # Fuel Type\t\n",
    "                        energy_type.append(energy_type_set) # Energy Type\n",
    "                        value.append(m[1]) # Value\n",
    "                        units.append(c['units']) # Units\n",
    "\n",
    "    if i['name'] in sales_list:\n",
    "        print(i['name'])\n",
    "        data = requests.get(api_link+str(i['category_id'])).json() # Load first page\n",
    "        child_select = data['category']['childseries']\n",
    "        for c in child_select: # Only pull what is in Sales List\n",
    "            if 'monthly' in c['name']: # Only select monthly reporting\n",
    "                new_data = requests.get(series_link+str(c['series_id'])).json() # Link to series data using key taken from child_select\n",
    "                monthly_data = new_data['series'][0]['data'] # Pull each row by month and take out data\n",
    "                for m in monthly_data:\n",
    "                    prime_category.append(i['name'].title()) # Prime Category\n",
    "                    series_name.append(c['name']) # Series Name\n",
    "                    period.append(m[0]) # Month\n",
    "                    fuel_type.append('All fuels') # Fuel Type\n",
    "                    energy_type.append('All') # Energy Type\n",
    "                    value.append(m[1]) # Value\n",
    "                    units.append(c['units']) # Units"
   ]
  },
  {
   "cell_type": "code",
   "execution_count": 10,
   "metadata": {},
   "outputs": [],
   "source": [
    "# Finally, the data is put together using the Pandas Dataframe and sent to a CSV file.\n",
    "\n",
    "df = pd.DataFrame(columns = ['prime_category','series_name','period','frequency','fuel_type','energy_type','value','units'])\n",
    "df['prime_category'] = prime_category\n",
    "df['series_name'] = series_name\n",
    "df['period'] = period\n",
    "df['frequency'] = 'M'\n",
    "df['fuel_type'] = fuel_type\n",
    "df['energy_type'] = energy_type\n",
    "df['value'] = value\n",
    "df['units'] = units\n",
    "\n",
    "df.to_csv('electricity_data.csv', index=False)"
   ]
  },
  {
   "cell_type": "code",
   "execution_count": null,
   "metadata": {},
   "outputs": [],
   "source": []
  }
 ],
 "metadata": {
  "kernelspec": {
   "display_name": "Python 3 (ipykernel)",
   "language": "python",
   "name": "python3"
  },
  "language_info": {
   "codemirror_mode": {
    "name": "ipython",
    "version": 3
   },
   "file_extension": ".py",
   "mimetype": "text/x-python",
   "name": "python",
   "nbconvert_exporter": "python",
   "pygments_lexer": "ipython3",
   "version": "3.9.7"
  }
 },
 "nbformat": 4,
 "nbformat_minor": 4
}
